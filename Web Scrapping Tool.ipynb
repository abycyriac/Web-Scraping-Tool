{
 "cells": [
  {
   "cell_type": "markdown",
   "metadata": {},
   "source": [
    "\n",
    "\n",
    "Disclaimer: This code should only be used as a reference and the responsibility of using this code lies solely on the user/users who is/ are using/executing it.\n",
    "\n",
    "The library used is BeautifulSoup. This program scrapes Metacritics, IMDB and Rotten Tomatoes for movies genres. then save them to CSVs and SQLite. Finally, the correlation between the website on the genres is found out.\n"
   ]
  },
  {
   "cell_type": "code",
   "execution_count": 1,
   "metadata": {},
   "outputs": [],
   "source": [
    "import urllib.request, urllib.parse, urllib.error\n",
    "from bs4 import BeautifulSoup\n",
    "import ssl\n",
    "import requests\n",
    "import pandas as pd\n",
    "import numpy as np\n",
    "import csv, sqlite3\n",
    "\n",
    "ctx = ssl.create_default_context()\n",
    "ctx.check_hostname = False\n",
    "ctx.verify_mode = ssl.CERT_NONE\n",
    "headers = {'User-Agent': 'Mozilla/5.0 (Macintosh; Intel Mac OS X 10_13_6) AppleWebKit/537.36 (KHTML, like Gecko) Chrome/70.0.3538.77 Safari/537.36'}\n",
    "no_movies = 50 # You can change this number to change to number of the movies scarped.\n",
    "               # It can accept value from 0 to 100."
   ]
  },
  {
   "cell_type": "code",
   "execution_count": 2,
   "metadata": {},
   "outputs": [],
   "source": [
    "# make dictionary\n",
    "def make_dictionary(movies, genres):\n",
    "    dict_movie = {}\n",
    "    for movie, gen in zip(movies, genres):\n",
    "        dict_movie[movie] = gen\n",
    "    return dict_movie\n",
    "\n",
    "# Make the vector dictionary\n",
    "def make_vector(dict_movie):\n",
    "    genre_vect = {}\n",
    "    for movie in dict_movie.keys():\n",
    "        for i in dict_movie[movie]:\n",
    "            i=i.lower()\n",
    "            genre_vect[i] = genre_vect.get(i,0)+1\n",
    "    return genre_vect\n",
    "\n",
    "# Make Dataframe\n",
    "def make_dataframe(dict_movie):\n",
    "    largest = 0\n",
    "    val = None\n",
    "    df=None\n",
    "    for i in dict_movie.keys():\n",
    "        if largest<len(dict_movie[i]):\n",
    "            largest = len(dict_movie[i])\n",
    "            val = i\n",
    "\n",
    "    edited_movie_names = []\n",
    "    for i in dict_movie.keys():\n",
    "        edited_movie_names.append(\"Movie Name \"+str(i))\n",
    "\n",
    "    df = pd.DataFrame(columns = edited_movie_names)\n",
    "    df[\"Movie Name \"+str(val)] = pd.Series(np.array(dict_movie[val]))\n",
    "    for i in dict_movie.keys():\n",
    "        df[\"Movie Name \"+str(i)] = pd.Series(np.array(dict_movie[i]))\n",
    "    return df\n",
    "\n",
    "# makes a table of gebres for the movie in an sqlite database\n",
    "def make_table(website, df):\n",
    "    df.columns = df.columns.str.replace(' ', '_')\n",
    "    df.columns = df.columns.str.replace(',', '')\n",
    "    df.columns = df.columns.str.replace('.', '')\n",
    "    df.columns = df.columns.str.replace(':', '')\n",
    "    df.columns = df.columns.str.replace(')', '')\n",
    "    df.columns = df.columns.str.replace('(', '')\n",
    "    df.columns = df.columns.str.replace(\"'\", '')\n",
    "    df.columns = df.columns.str.replace(\"-\", '')\n",
    "    \n",
    "    string =\"\"\n",
    "    k=0\n",
    "    for i in list(df.columns):\n",
    "        if k!=0:\n",
    "            string+=\", \"\n",
    "        k=1\n",
    "        string +=i\n",
    "        string +=\" text\"\n",
    "    \n",
    "    conn = sqlite3.connect('Genres') \n",
    "    cur = conn.cursor()\n",
    "    cmd = \"DROP TABLE IF EXISTS \"+str(website)\n",
    "    cur.execute(cmd)\n",
    "    cmd = \"CREATE TABLE \"+ str(website) +\"(\"+ string +\");\"\n",
    "    cur.execute(cmd)\n",
    "    df.to_sql(str(website), conn, if_exists='append', index = False)\n",
    "    print(f\"Table for {website} created\")\n",
    "    conn.close()\n",
    "    "
   ]
  },
  {
   "cell_type": "markdown",
   "metadata": {},
   "source": [
    "# 1. Metacritics"
   ]
  },
  {
   "cell_type": "code",
   "execution_count": 3,
   "metadata": {},
   "outputs": [
    {
     "name": "stdout",
     "output_type": "stream",
     "text": [
      "You get 3 tries to make the url right! The right url is given in the markdown cell below.\n",
      "Enter url for Metacritics- https://www.metacritic.com/browse/movies/score/metascore/all/filtered?sort=desc\n",
      "Table for Metacritics created\n"
     ]
    }
   ],
   "source": [
    "# The url to be entered is given below\n",
    "print(\"You get 3 tries to make the url right! The right url is given in the markdown cell below.\")\n",
    "iteration = 0\n",
    "while iteration<3:\n",
    "    url = input('Enter url for Metacritics- ')\n",
    "#     url = \"https://www.metacritic.com/browse/movies/score/metascore/all/filtered?sort=desc\"\n",
    "    if url == \"https://www.metacritic.com/browse/movies/score/metascore/all/filtered?sort=desc\":\n",
    "        page = requests.get(url, headers = headers)\n",
    "        soup = BeautifulSoup(page.content, \"html.parser\")\n",
    "        container = soup.find_all('td', class_ = 'clamp-summary-wrap')\n",
    "\n",
    "        movie_names = [] # list of first no_movies movies names\n",
    "        movie_links = [] # list of first no_movies movies names to scrape genres\n",
    "        movies = container[:no_movies] #here we get the top 50 movies we want\n",
    "        \n",
    "        # Scraping movie names\n",
    "        for movie in movies:\n",
    "            name = movie.find('h3').text\n",
    "            movie_names.append(name)\n",
    "    \n",
    "        # Scraping individual movie links\n",
    "        for movie in movies:\n",
    "            tag = movie.find('a', class_ = 'title')\n",
    "            link = tag.get('href', None)\n",
    "            movie_links.append(link)\n",
    "\n",
    "        movie_genre = {}\n",
    "        final_raw_genres = []\n",
    "        genres=[]\n",
    "        \n",
    "        # Scraping the genres of all the movies\n",
    "        for link in movie_links:\n",
    "            url = \"https://www.metacritic.com/\"+link\n",
    "            page = requests.get(url, headers = headers)\n",
    "            soup = BeautifulSoup(page.content, \"html.parser\")\n",
    "            genre_container = soup.find_all('div', class_ = 'genres')\n",
    "            genre_container = genre_container[:]\n",
    "            raw_genres = [span.text for span in genre_container]\n",
    "\n",
    "            for i in raw_genres:\n",
    "                temp = i.split(',')\n",
    "                temp1 = [k.replace(\"\\n\",\"\") for k in temp]\n",
    "                temp1[0] = temp1[0][9:]\n",
    "                for k in range(len(temp1)):\n",
    "                    temp1[k]=temp1[k].strip().lower()\n",
    "            final_raw_genres.append(temp1)\n",
    "        \n",
    "        # Dictionary with movies name as keys and corresponding genres as the values\n",
    "        dict_movie_metacritics = make_dictionary(movie_names, final_raw_genres)\n",
    "        # Dictionary with genre as keys and number of times the genre appears as the values\n",
    "        genre_vect_metacritics = make_vector(dict_movie_metacritics)\n",
    "        # Dataframa of genres with movie names as columns names\n",
    "        df_metacritics = make_dataframe(dict_movie_metacritics)\n",
    "        # Make CSV of genres\n",
    "        df_metacritics.to_csv('Metacritics_Genres.csv',index=False)\n",
    "        # Make a SQLite Databse with genres in a table\n",
    "        make_table(\"Metacritics\", df_metacritics)\n",
    "        break\n",
    "        \n",
    "    if iteration<2:\n",
    "        if iteration ==1:\n",
    "            print(\"Wrong Url! You have only one try left! Try copying the right url again from the markdown cell below.\")\n",
    "        else:\n",
    "            print(\"Wrong Url! You have \",2-iteration,\" tries left! Try copying the right url again from the markdown cell below.\")\n",
    "    else:\n",
    "        print(\"You have exceeded your number of tries! Exiting! Goodbye!\")\n",
    "        break\n",
    "    iteration+=1\n"
   ]
  },
  {
   "cell_type": "markdown",
   "metadata": {},
   "source": [
    "### Metacritics\n",
    "https://www.metacritic.com/browse/movies/score/metascore/all/filtered?sort=desc"
   ]
  },
  {
   "cell_type": "code",
   "execution_count": 4,
   "metadata": {},
   "outputs": [
    {
     "name": "stdout",
     "output_type": "stream",
     "text": [
      "Genre dictionary for Metacritics: {'Citizen Kane': ['drama', 'mystery'], 'The Godfather': ['drama', 'thriller', 'crime'], 'Rear Window': ['mystery', 'thriller'], 'Casablanca': ['drama', 'romance', 'war'], 'Boyhood': ['drama'], 'Three Colors: Red': ['drama', 'mystery', 'romance'], 'Vertigo': ['mystery', 'thriller', 'romance'], 'Notorious': ['drama', 'thriller', 'romance', 'film-noir'], \"Singin' in the Rain\": ['comedy', 'romance', 'musical'], 'City Lights': ['drama', 'comedy', 'romance'], 'Moonlight': ['drama'], 'Intolerance': ['drama', 'history'], 'Pinocchio': ['fantasy', 'comedy', 'animation', 'family', 'musical'], 'Touch of Evil': ['drama', 'thriller', 'crime', 'film-noir'], 'The Treasure of the Sierra Madre': ['adventure', 'drama', 'western'], \"Pan's Labyrinth\": ['drama', 'mystery', 'thriller', 'fantasy', 'war'], 'Some Like It Hot': ['comedy', 'romance'], 'North by Northwest': ['action', 'adventure', 'mystery', 'thriller'], 'Hoop Dreams': ['drama', 'sport', 'documentary'], 'Rashomon': ['drama', 'mystery', 'crime'], 'All About Eve': ['drama'], 'Jules and Jim': ['drama', 'romance'], 'The Wild Bunch': ['action', 'adventure', 'western'], 'My Left Foot': ['biography', 'drama'], 'The Third Man': ['mystery', 'thriller', 'film-noir'], 'Dr. Strangelove or: How I Learned to Stop Worrying and Love the Bomb': ['drama', 'thriller'], 'Nomadland': ['drama'], 'Gone with the Wind': ['drama', 'history', 'romance', 'war'], '4 Months, 3 Weeks and 2 Days': ['drama'], 'Psycho': ['mystery', 'thriller', 'horror'], 'Battleship Potemkin': ['drama', 'history', 'thriller', 'war'], 'A Streetcar Named Desire': ['drama'], 'American Graffiti': ['drama', 'comedy'], 'Dumbo': ['drama', 'animation', 'family', 'musical'], 'Roma': ['drama'], 'Ran': ['action', 'drama', 'war'], 'The Shop Around the Corner': ['drama', 'comedy', 'romance'], '12 Angry Men': ['drama', 'crime'], 'Manchester by the Sea': ['drama'], \"Rosemary's Baby\": ['drama', 'horror'], 'The Maltese Falcon': ['mystery', 'film-noir'], '12 Years a Slave': ['biography', 'drama', 'history'], 'Killer of Sheep': ['drama'], 'Rocks': ['drama'], 'Nashville': ['drama', 'comedy', 'music'], 'Ratatouille': ['fantasy', 'comedy', 'animation', 'family'], 'Parasite': ['drama', 'thriller', 'comedy'], \"Don't Look Now\": ['drama', 'thriller', 'horror'], 'The Grapes of Wrath': ['drama', 'history'], 'Children of Paradise (1945)': ['drama', 'romance']}\n"
     ]
    }
   ],
   "source": [
    "try:\n",
    "    print(\"Genre dictionary for Metacritics:\",dict_movie_metacritics)\n",
    "except:\n",
    "    print(\"Previous code blocks for Metacritics are not run correctly! Run them correctly first.\")"
   ]
  },
  {
   "cell_type": "code",
   "execution_count": 5,
   "metadata": {},
   "outputs": [
    {
     "name": "stdout",
     "output_type": "stream",
     "text": [
      "Dictionary of vectors for Metacritics: {'drama': 39, 'mystery': 10, 'thriller': 13, 'crime': 4, 'romance': 11, 'war': 5, 'film-noir': 4, 'comedy': 9, 'musical': 3, 'history': 5, 'fantasy': 3, 'animation': 3, 'family': 3, 'adventure': 3, 'western': 2, 'action': 3, 'sport': 1, 'documentary': 1, 'biography': 2, 'horror': 3, 'music': 1}\n"
     ]
    }
   ],
   "source": [
    "try:\n",
    "    print(\"Dictionary of vectors for Metacritics:\",genre_vect_metacritics)\n",
    "except:\n",
    "    print(\"Previous code blocks for Metacritics are not run correctly! Run them correctly first.\")"
   ]
  },
  {
   "cell_type": "code",
   "execution_count": 6,
   "metadata": {},
   "outputs": [
    {
     "name": "stdout",
     "output_type": "stream",
     "text": [
      "('drama',)\n",
      "('mystery',)\n"
     ]
    }
   ],
   "source": [
    "try:\n",
    "    conn = sqlite3.connect('Genres') \n",
    "    cur = conn.cursor()\n",
    "    cur.execute(\"select Movie_Name_Citizen_Kane from Metacritics\")\n",
    "    for row in cur:\n",
    "        if row !=(None,):\n",
    "            print(row)\n",
    "    conn.close()\n",
    "except:\n",
    "    print(\"Previous code blocks for Metacritics are not run correctly! Run them correctly first.\")\n",
    "\n"
   ]
  },
  {
   "cell_type": "markdown",
   "metadata": {},
   "source": [
    "# 2. IMDB"
   ]
  },
  {
   "cell_type": "code",
   "execution_count": 7,
   "metadata": {},
   "outputs": [
    {
     "name": "stdout",
     "output_type": "stream",
     "text": [
      "You get 3 tries to make the url right! The right url is given in the markdown cell below.\n",
      "Enter url for IMDB- https://www.imdb.com/chart/top/?ref_=nv_mv_250\n",
      "Table for IMDB created\n"
     ]
    }
   ],
   "source": [
    "# The url to be entered is given below\n",
    "print(\"You get 3 tries to make the url right! The right url is given in the markdown cell below.\")\n",
    "iteration = 0\n",
    "while iteration<3:\n",
    "    url = input('Enter url for IMDB- ')\n",
    "#     url = \"https://www.imdb.com/chart/top/?ref_=nv_mv_250\"\n",
    "    if url == \"https://www.imdb.com/chart/top/?ref_=nv_mv_250\":\n",
    "        page = requests.get(url, headers = headers)\n",
    "        soup = BeautifulSoup(page.content, \"html.parser\")\n",
    "        container = soup.find_all('td', class_ = 'titleColumn') \n",
    "\n",
    "        movie_names = []\n",
    "        movie_links = []\n",
    "        movies = container[:no_movies] #here we get the top 50 movies we want\n",
    "\n",
    "        for movie in movies:\n",
    "            name = movie.find('a').text\n",
    "            movie_names.append(name)\n",
    "\n",
    "        for movie in movies:\n",
    "            tag = movie.find('a')\n",
    "            link = tag.get('href', None)\n",
    "            movie_links.append(link)\n",
    "\n",
    "        container_genre = {}\n",
    "        final_raw_genres = {}\n",
    "        genres_list=[]\n",
    "        container = None\n",
    "\n",
    "        for link, movie in zip(movie_links, movie_names):\n",
    "            url = \"https://www.imdb.com/\"+link\n",
    "            page = requests.get(url, headers = headers)\n",
    "            soup = BeautifulSoup(page.content, \"html.parser\")\n",
    "            container = soup.find_all('div', class_= \"see-more inline canwrap\")\n",
    "            final_raw_genres[movie] = container[1].find_all('a')\n",
    "\n",
    "        dict_movie_imdb = {}\n",
    "\n",
    "        for i in final_raw_genres.keys():\n",
    "            arr_genres = []\n",
    "            for j in final_raw_genres[i]:\n",
    "                arr_genres.append(j.text.strip().lower())\n",
    "            dict_movie_imdb[i]=arr_genres\n",
    "\n",
    "        genre_vect_imdb = make_vector(dict_movie_imdb)\n",
    "        df_imdb = make_dataframe(dict_movie_imdb)\n",
    "\n",
    "        df_imdb.to_csv('IMDB_Genres.csv',index=False)\n",
    "        make_table(\"IMDB\", df_imdb)\n",
    "        break\n",
    "        \n",
    "    if iteration<2:\n",
    "        if iteration ==1:\n",
    "            print(\"Wrong Url! You have only one try left! Try copying the right url again from the markdown cell below.\")\n",
    "        else:\n",
    "            print(\"Wrong Url! You have \",2-iteration,\" tries left! Try copying the right url again from the markdown cell below.\")\n",
    "    else:\n",
    "        print(\"You have exceeded your number of tries! Exiting! Goodbye!\")\n",
    "        break\n",
    "    iteration+=1"
   ]
  },
  {
   "cell_type": "markdown",
   "metadata": {},
   "source": [
    "IMDB\n",
    "\n",
    "https://www.imdb.com/chart/top/?ref_=nv_mv_250"
   ]
  },
  {
   "cell_type": "code",
   "execution_count": 8,
   "metadata": {},
   "outputs": [
    {
     "name": "stdout",
     "output_type": "stream",
     "text": [
      "Genre dictionary for IMDB: {'The Shawshank Redemption': ['drama'], 'The Godfather': ['crime', 'drama'], 'The Godfather: Part II': ['crime', 'drama'], 'The Dark Knight': ['action', 'crime', 'drama', 'thriller'], '12 Angry Men': ['crime', 'drama'], \"Schindler's List\": ['biography', 'drama', 'history'], 'The Lord of the Rings: The Return of the King': ['action', 'adventure', 'drama', 'fantasy'], 'Pulp Fiction': ['crime', 'drama'], 'The Good, the Bad and the Ugly': ['western'], 'The Lord of the Rings: The Fellowship of the Ring': ['action', 'adventure', 'drama', 'fantasy'], 'Fight Club': ['drama'], 'Forrest Gump': ['drama', 'romance'], 'Inception': ['action', 'adventure', 'sci-fi', 'thriller'], 'The Lord of the Rings: The Two Towers': ['action', 'adventure', 'drama', 'fantasy'], 'Star Wars: Episode V - The Empire Strikes Back': ['action', 'adventure', 'fantasy', 'sci-fi'], 'The Matrix': ['action', 'sci-fi'], 'Goodfellas': ['biography', 'crime', 'drama'], \"One Flew Over the Cuckoo's Nest\": ['drama'], 'Seven Samurai': ['action', 'adventure', 'drama'], 'Se7en': ['crime', 'drama', 'mystery', 'thriller'], 'Life Is Beautiful': ['comedy', 'drama', 'romance', 'war'], 'City of God': ['crime', 'drama'], 'The Silence of the Lambs': ['crime', 'drama', 'thriller'], \"It's a Wonderful Life\": ['drama', 'family', 'fantasy'], 'Star Wars: Episode IV - A New Hope': ['action', 'adventure', 'fantasy', 'sci-fi'], 'Saving Private Ryan': ['drama', 'war'], 'Spirited Away': ['animation', 'adventure', 'family', 'fantasy', 'mystery'], 'The Green Mile': ['crime', 'drama', 'fantasy', 'mystery'], 'Interstellar': ['adventure', 'drama', 'sci-fi'], 'Parasite': ['comedy', 'drama', 'thriller'], 'Léon: The Professional': ['action', 'crime', 'drama', 'thriller'], 'The Usual Suspects': ['crime', 'mystery', 'thriller'], 'Hara-Kiri': ['action', 'drama', 'mystery'], 'The Lion King': ['animation', 'adventure', 'drama', 'family', 'musical'], 'The Pianist': ['biography', 'drama', 'music', 'war'], 'Back to the Future': ['adventure', 'comedy', 'sci-fi'], 'Terminator 2: Judgment Day': ['action', 'sci-fi'], 'American History X': ['drama'], 'Modern Times': ['comedy', 'drama', 'family', 'romance'], 'Psycho': ['horror', 'mystery', 'thriller'], 'Gladiator': ['action', 'adventure', 'drama'], 'City Lights': ['comedy', 'drama', 'romance'], 'The Departed': ['crime', 'drama', 'thriller'], 'The Intouchables': ['biography', 'comedy', 'drama'], 'Whiplash': ['drama', 'music'], 'The Prestige': ['drama', 'mystery', 'sci-fi', 'thriller'], 'Grave of the Fireflies': ['animation', 'drama', 'war'], 'Once Upon a Time in the West': ['western'], 'Hamilton': ['biography', 'drama', 'history', 'musical'], 'Casablanca': ['drama', 'romance', 'war']}\n"
     ]
    }
   ],
   "source": [
    "try:\n",
    "    print(\"Genre dictionary for IMDB:\",dict_movie_imdb)\n",
    "except:\n",
    "    print(\"Previous code blocks for imdb are not run correctly! Run them correctly first.\")"
   ]
  },
  {
   "cell_type": "code",
   "execution_count": 9,
   "metadata": {},
   "outputs": [
    {
     "name": "stdout",
     "output_type": "stream",
     "text": [
      "Dictionary of vectors for IMDB: {'drama': 39, 'crime': 13, 'action': 13, 'thriller': 10, 'biography': 5, 'history': 2, 'adventure': 12, 'fantasy': 8, 'western': 2, 'romance': 5, 'sci-fi': 8, 'mystery': 7, 'comedy': 6, 'war': 5, 'family': 4, 'animation': 3, 'musical': 2, 'music': 2, 'horror': 1}\n"
     ]
    }
   ],
   "source": [
    "try:\n",
    "    print(\"Dictionary of vectors for IMDB:\",genre_vect_imdb)\n",
    "except:\n",
    "    print(\"Previous code blocks for imdb are not run correctly! Run them correctly first.\")"
   ]
  },
  {
   "cell_type": "code",
   "execution_count": 10,
   "metadata": {},
   "outputs": [
    {
     "name": "stdout",
     "output_type": "stream",
     "text": [
      "('drama',)\n"
     ]
    }
   ],
   "source": [
    "try:\n",
    "    conn = sqlite3.connect('Genres') \n",
    "    cur = conn.cursor()\n",
    "    cur.execute(\"select Movie_Name_The_Shawshank_Redemption from IMDB\")\n",
    "    for row in cur:\n",
    "        if row !=(None,):\n",
    "            print(row)\n",
    "    conn.close()\n",
    "except:\n",
    "    print(\"Previous code blocks are for imdb not run correctly! Run them correctly first.\")\n",
    "\n"
   ]
  },
  {
   "cell_type": "markdown",
   "metadata": {},
   "source": [
    "# 3. Rotten Tomatoes\n",
    "\n"
   ]
  },
  {
   "cell_type": "code",
   "execution_count": 12,
   "metadata": {},
   "outputs": [
    {
     "name": "stdout",
     "output_type": "stream",
     "text": [
      "You get 3 tries to make the url right! The right url is given in the markdown cell below.\n",
      "Enter url for Rotten Tomatoes- https://www.rottentomatoes.com/top/bestofrt/\n",
      "Table for Rotten_Tomatoes created\n"
     ]
    }
   ],
   "source": [
    "print(\"You get 3 tries to make the url right! The right url is given in the markdown cell below.\")\n",
    "iteration = 0\n",
    "while iteration<3:\n",
    "    url = input('Enter url for Rotten Tomatoes- ')\n",
    "#     url = \"https://www.rottentomatoes.com/top/bestofrt/\"\n",
    "    if url == \"https://www.rottentomatoes.com/top/bestofrt/\":\n",
    "        page = requests.get(url, headers = headers)\n",
    "        soup = BeautifulSoup(page.content, \"html.parser\")\n",
    "        container = soup.find_all('a', class_=\"unstyled articleLink\")\n",
    "        container = container[43:-2]\n",
    "        movie_names = []\n",
    "        movie_links = []\n",
    "        movies = container[:no_movies] #here we get the top 50 movies we want\n",
    "\n",
    "        for movie in movies:\n",
    "            movie=str(movie)\n",
    "            start = [x for x, v in enumerate(movie) if v == '>'][0]\n",
    "            end = [x for x, v in enumerate(movie) if v == '<'][1]\n",
    "            movie_names.append(movie[start+2:end].strip())\n",
    "\n",
    "        for movie in movies:\n",
    "            link = movie.get('href', None)\n",
    "            movie_links.append(link)\n",
    "\n",
    "        movie_genre = {}\n",
    "        final_raw_genres = []\n",
    "        genres=[]\n",
    "\n",
    "        for link in movie_links:\n",
    "            url = \"https://www.rottentomatoes.com\"+link\n",
    "            page = requests.get(url, headers = headers)\n",
    "            soup = BeautifulSoup(page.content, \"html.parser\")\n",
    "\n",
    "            genre_container = soup.find_all('div', class_=\"meta-value genre\")\n",
    "            raw_genres = [span.text for span in genre_container]\n",
    "\n",
    "            temp_genre = []\n",
    "            for i in raw_genres:\n",
    "                temp= i.split(',')\n",
    "            for i in temp:\n",
    "                temp_genre.append(i.strip())\n",
    "            final_raw_genres.append(temp_genre)\n",
    "\n",
    "        dict_movie_rotten_tomatoes = make_dictionary(movie_names, final_raw_genres)\n",
    "        genre_vect_rotten_tomatoes = make_vector(dict_movie_rotten_tomatoes)\n",
    "        df_rotten_tomatoes = make_dataframe(dict_movie_rotten_tomatoes)\n",
    "\n",
    "        df_rotten_tomatoes.to_csv('Rotten_Tomatoes_Genres.csv',index=False)\n",
    "        make_table(\"Rotten_Tomatoes\", df_rotten_tomatoes)\n",
    "        break\n",
    "        \n",
    "    if iteration<2:\n",
    "        if iteration ==1:\n",
    "            print(\"Wrong Url! You have only one try left! Try copying the right url again from the markdown cell below.\")\n",
    "        else:\n",
    "            print(\"Wrong Url! You have \",2-iteration,\" tries left! Try copying the right url again from the markdown cell below.\")\n",
    "    else:\n",
    "        print(\"You have exceeded your number of tries! Exiting! Goodbye!\")\n",
    "        break\n",
    "    iteration+=1"
   ]
  },
  {
   "cell_type": "markdown",
   "metadata": {},
   "source": [
    "### Rotten Tomatoes\n",
    "https://www.rottentomatoes.com/top/bestofrt/"
   ]
  },
  {
   "cell_type": "code",
   "execution_count": 13,
   "metadata": {},
   "outputs": [
    {
     "name": "stdout",
     "output_type": "stream",
     "text": [
      "Genre dictionary for Rotten Tomatoes: {'Black Panther (2018)': ['fantasy', 'action', 'adventure'], 'Avengers: Endgame (2019)': ['fantasy', 'adventure', 'sci fi', 'action'], 'Us (2019)': ['horror', 'mystery and thriller'], 'Toy Story 4 (2019)': ['fantasy', 'kids and family', 'animation', 'adventure', 'comedy'], 'Lady Bird (2017)': ['drama', 'comedy'], 'Citizen Kane (1941)': ['drama'], 'Mission: Impossible - Fallout (2018)': ['adventure', 'mystery and thriller', 'action'], 'The Wizard of Oz (1939)': ['musical', 'kids and family', 'fantasy'], 'BlacKkKlansman (2018)': ['drama', 'comedy', 'crime'], 'Get Out (2017)': ['horror', 'mystery and thriller', 'comedy'], 'The Irishman (2019)': ['drama', 'crime'], 'Mad Max: Fury Road (2015)': ['adventure', 'action'], 'Spider-Man: Into the Spider-Verse (2018)': ['fantasy', 'comedy', 'kids and family', 'animation', 'adventure', 'action'], 'Casablanca (1942)': ['drama'], 'Moonlight (2016)': ['drama'], 'A Star Is Born (2018)': ['drama', 'music', 'romance'], 'Wonder Woman (2017)': ['adventure', 'action', 'fantasy'], 'Dunkirk (2017)': ['drama', 'war', 'history'], 'Inside Out (2015)': ['comedy', 'fantasy', 'kids and family', 'animation'], 'The Farewell (2019)': ['drama', 'comedy'], 'A Quiet Place (2018)': ['horror', 'mystery and thriller'], 'Modern Times (1936)': ['comedy'], 'Eighth Grade (2018)': ['drama', 'comedy'], 'It Happened One Night (1934)': ['romance'], 'Booksmart (2019)': ['comedy'], 'A Night at the Opera (1935)': ['comedy'], 'Roma (2018)': ['drama'], 'The Third Man (1949)': ['mystery and thriller'], 'Coco (2017)': ['music', 'kids and family', 'animation', 'adventure', 'comedy'], 'Thor: Ragnarok (2017)': ['fantasy', 'comedy', 'sci fi', 'adventure', 'action'], 'The Shape of Water (2017)': ['fantasy', 'romance'], 'Selma (2014)': ['drama', 'history'], 'Spotlight (2015)': ['drama'], 'The Godfather (1972)': ['drama', 'crime'], 'La Grande illusion (Grand Illusion) (1938)': ['drama', 'war'], 'Arrival (2016)': ['drama', 'sci fi', 'mystery and thriller'], \"Singin' in the Rain (1952)\": ['comedy', 'musical'], 'Snow White and the Seven Dwarfs (1937)': ['fantasy', 'animation', 'kids and family'], 'Logan (2017)': ['fantasy', 'adventure', 'action'], 'The Cabinet of Dr. Caligari (Das Cabinet des Dr. Caligari) (1920)': ['horror'], 'Double Indemnity (1944)': ['drama', 'crime'], 'The Favourite (2018)': ['drama', 'comedy'], 'The Big Sick (2017)': ['romance'], 'Spider-Man: Far From Home (2019)': ['fantasy', 'adventure', 'action', 'comedy'], 'E.T. The Extra-Terrestrial (1982)': ['adventure', 'sci fi', 'kids and family'], 'Star Wars: The Last Jedi (2017)': ['fantasy', 'adventure', 'sci fi', 'action'], 'All About Eve (1950)': ['drama'], 'Shadow of a Doubt (1943)': ['drama', 'mystery and thriller', 'crime'], 'The Kid (1921)': ['drama', 'comedy'], 'Paddington 2 (2018)': ['adventure', 'kids and family', 'comedy']}\n"
     ]
    }
   ],
   "source": [
    "try:\n",
    "    print(\"Genre dictionary for Rotten Tomatoes:\",dict_movie_rotten_tomatoes)\n",
    "except:\n",
    "    print(\"Previous code blocks for Rotten Tomatoes are not run correctly! Run them correctly first.\")\n",
    "\n"
   ]
  },
  {
   "cell_type": "code",
   "execution_count": 14,
   "metadata": {},
   "outputs": [
    {
     "name": "stdout",
     "output_type": "stream",
     "text": [
      "Dictionary of vectors for Rotten Tomatoes: {'fantasy': 13, 'action': 10, 'adventure': 14, 'sci fi': 5, 'horror': 4, 'mystery and thriller': 7, 'kids and family': 8, 'animation': 5, 'comedy': 18, 'drama': 21, 'musical': 2, 'crime': 5, 'music': 2, 'romance': 4, 'war': 2, 'history': 2}\n"
     ]
    }
   ],
   "source": [
    "try:\n",
    "    print(\"Dictionary of vectors for Rotten Tomatoes:\",genre_vect_rotten_tomatoes)\n",
    "except:\n",
    "    print(\"Previous code blocks  for Rotten Tomatoes are not run correctly! Run them correctly first.\")"
   ]
  },
  {
   "cell_type": "code",
   "execution_count": 15,
   "metadata": {},
   "outputs": [
    {
     "name": "stdout",
     "output_type": "stream",
     "text": [
      "('fantasy',)\n",
      "('action',)\n",
      "('adventure',)\n"
     ]
    }
   ],
   "source": [
    "try:\n",
    "    conn = sqlite3.connect('Genres') \n",
    "    cur = conn.cursor()\n",
    "    cur.execute(\"select Movie_Name_Black_Panther_2018 from Rotten_Tomatoes\")\n",
    "    for row in cur:\n",
    "        if row !=(None,):\n",
    "            print(row)\n",
    "    conn.close()\n",
    "except:\n",
    "    print(\"Previous code blocks  for Rotten Tomatoes are not run correctly! Run them correctly first.\")\n",
    "\n"
   ]
  },
  {
   "cell_type": "markdown",
   "metadata": {},
   "source": [
    "Calculation"
   ]
  },
  {
   "cell_type": "code",
   "execution_count": 16,
   "metadata": {},
   "outputs": [
    {
     "name": "stdout",
     "output_type": "stream",
     "text": [
      "Correlation Between Metacritics and IMDB 0.9019873939979214\n",
      "Correlation Between Metacritics and Rottan Tomatoes 0.6824329998331107\n",
      "Correlation Between IMDB and rotten 0.7704153969743939\n"
     ]
    }
   ],
   "source": [
    "denominator_metacritics = 0\n",
    "denominator_imdb = 0\n",
    "denominator_rotten = 0\n",
    "try:\n",
    "    # Finding denominators\n",
    "    for i in genre_vect_metacritics.keys():\n",
    "        denominator_metacritics+=(genre_vect_metacritics.get(i))**2\n",
    "    denominator_metacritics = (denominator_metacritics)**(1/2)\n",
    "\n",
    "    for i in genre_vect_imdb.keys():\n",
    "        denominator_imdb+=(genre_vect_imdb.get(i))**2\n",
    "    denominator_imdb = (denominator_imdb)**(1/2)\n",
    "\n",
    "    for i in genre_vect_rotten_tomatoes.keys():\n",
    "        denominator_rotten+=(genre_vect_rotten_tomatoes.get(i))**2\n",
    "    denominator_rotten = (denominator_rotten)**(1/2)\n",
    "\n",
    "    # corelation between metacritics and imdb\n",
    "    numerator_meta_imdb = 0\n",
    "    for i in genre_vect_metacritics.keys():\n",
    "        try:\n",
    "            numerator_meta_imdb+= genre_vect_metacritics[i]*genre_vect_imdb[i]\n",
    "        except:\n",
    "            numerator_meta_imdb+=0\n",
    "\n",
    "    # corelation between metacritics and rotten tomatoes\n",
    "    numerator_meta_rotten = 0\n",
    "    for i in genre_vect_metacritics.keys():\n",
    "        try:\n",
    "            numerator_meta_rotten+= genre_vect_metacritics[i]*genre_vect_rotten_tomatoes[i]\n",
    "        except:\n",
    "            numerator_meta_rotten+=0\n",
    "\n",
    "    # corelation between imdb and rotten tomatoes\n",
    "    numerator_imdb_rotten = 0\n",
    "    for i in genre_vect_metacritics.keys():\n",
    "        try:\n",
    "            numerator_imdb_rotten+= genre_vect_imdb[i]*genre_vect_rotten_tomatoes[i]\n",
    "        except:\n",
    "            numerator_imdb_rotten+=0\n",
    "\n",
    "except:\n",
    "    print(\"Previous code blocks are not run correctly! Run them correctly first.\")\n",
    "\n",
    "print(\"Correlation Between Metacritics and IMDB\",numerator_meta_imdb/(denominator_metacritics*denominator_imdb))\n",
    "print(\"Correlation Between Metacritics and Rottan Tomatoes\",numerator_meta_rotten/(denominator_metacritics*denominator_rotten))\n",
    "print(\"Correlation Between IMDB and rotten\",numerator_imdb_rotten/(denominator_imdb*denominator_rotten))"
   ]
  },
  {
   "cell_type": "code",
   "execution_count": null,
   "metadata": {},
   "outputs": [],
   "source": []
  },
  {
   "cell_type": "code",
   "execution_count": null,
   "metadata": {},
   "outputs": [],
   "source": []
  }
 ],
 "metadata": {
  "kernelspec": {
   "display_name": "Python 3",
   "language": "python",
   "name": "python3"
  },
  "language_info": {
   "codemirror_mode": {
    "name": "ipython",
    "version": 3
   },
   "file_extension": ".py",
   "mimetype": "text/x-python",
   "name": "python",
   "nbconvert_exporter": "python",
   "pygments_lexer": "ipython3",
   "version": "3.8.3"
  }
 },
 "nbformat": 4,
 "nbformat_minor": 2
}
